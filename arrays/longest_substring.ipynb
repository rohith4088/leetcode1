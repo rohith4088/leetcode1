{
 "cells": [
  {
   "cell_type": "code",
   "execution_count": null,
   "metadata": {},
   "outputs": [],
   "source": [
    "class Solution:\n",
    "    def longestPalindrome(self, s: str) -> str:\n",
    "        res = \" \"\n",
    "        reslen = 0\n",
    "        for i in range(len(s)):\n",
    "            l , r = i,i\n",
    "            #odd length\n",
    "            while l >=0 and r < len(s) and s[l] == s[r]:\n",
    "                if (r - 1 + 1) > reslen:\n",
    "                    res = s[l : r+1]\n",
    "                    reslen = r - 1 + 1\n",
    "                l  -= 1\n",
    "                r += 1\n",
    "                #even length\n",
    "                l ,r = i , i+1\n",
    "                while l >=0 and r<len(s) and s[l] == s[r]:\n",
    "                    if (r - 1 + 1) > reslen:\n",
    "                        res = s[l: r+1]\n",
    "                        reslen = r-1+1\n",
    "                    l-=1\n",
    "                    r+=1\n",
    "            return res"
   ]
  },
  {
   "cell_type": "code",
   "execution_count": null,
   "metadata": {},
   "outputs": [],
   "source": [
    "#manachers algorithm\n",
    "def longestsubstring(self,s : str) -> str:\n",
    "    res = \"\"\n",
    "    reslen = 0\n",
    "    for i in range (len(s)):\n",
    "        l , r = i,i\n",
    "        while l>=0 and r < len(s) and s[l] == s[r]:\n",
    "            #odd length\n",
    "            if (r-l+1) > reslen:#length of the palindrome \n",
    "                res = s[l:r+1]\n",
    "                reslen = r-1+1\n",
    "            l -= 1\n",
    "            r += 1\n",
    "        #even length\n",
    "        l , r = i,i+1\n",
    "        while l>=0 and r < len(s) and s[l] == s[r]:\n",
    "            if (r-l+1)>reslen:\n",
    "                res = s[l:r+1]\n",
    "                reslen = r-l+1\n",
    "            l -= 1\n",
    "            r += 1\n",
    "    return res"
   ]
  },
  {
   "cell_type": "code",
   "execution_count": null,
   "metadata": {},
   "outputs": [],
   "source": []
  }
 ],
 "metadata": {
  "language_info": {
   "name": "python"
  }
 },
 "nbformat": 4,
 "nbformat_minor": 2
}
