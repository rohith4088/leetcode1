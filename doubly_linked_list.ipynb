{
 "cells": [
  {
   "cell_type": "code",
   "execution_count": null,
   "metadata": {},
   "outputs": [],
   "source": [
    "#doubly linked lists are singly linked lists with one added feature\n",
    "#a link to the previous node as well in addition to a link to the next node.\n",
    "#Although the worst case time complexities of all operations in a doubly linked list are same as that of a singly linked list,\n",
    "#Some operations are technically faster. For example, lookup or searching, is O(n/2) as search can begin from both ends\n",
    "#But O(n/2) = O(n), so it is still the same as that for a singly linked list.\n",
    "#Implementation of doubly linked list is almost exactly the same as that for singly linked list,\n",
    "#With just the added feature of the pointer to the previous node.\n",
    "#We'll have the same methods which do the exact same thing. The pars which will be different from the singly linked list are explained\n",
    "#So lets implement it.\n",
    "class Node():\n",
    "    def __init__(self,data):\n",
    "        self.data = data\n",
    "        self.next = None\n",
    "        self.previous = None\n",
    "class doublyLinkedList():\n",
    "    def __int__(self):\n",
    "        self.head = None\n",
    "        self.tail = self.head\n",
    "        self.length = 0\n",
    "    def print_list(self):\n",
    "        if self.head == None:\n",
    "            print(\"the Linked List is Empty\")\n",
    "        else:\n",
    "            current_node = self.head\n",
    "            while current_node != None:\n",
    "                print(current_node.data,end = '')\n",
    "                current_node = current_node.next\n",
    "                \n",
    "        print()\n",
    "    def append(self,data):\n",
    "        new_node = Node(data)\n",
    "        if self.head == None:\n",
    "            self.head = new_node\n",
    "            self.tail = self.head\n",
    "            self.length += 1\n",
    "        else:\n",
    "            new_node.previous = self.tail\n",
    "            self.tail.next = new_node\n",
    "            self.tail = new_node\n",
    "            self.length += 1\n",
    "            return\n",
    "                \n",
    "        "
   ]
  },
  {
   "cell_type": "code",
   "execution_count": null,
   "metadata": {},
   "outputs": [],
   "source": []
  }
 ],
 "metadata": {
  "language_info": {
   "name": "python"
  }
 },
 "nbformat": 4,
 "nbformat_minor": 2
}
