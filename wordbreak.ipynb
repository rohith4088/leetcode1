{
 "cells": [
  {
   "cell_type": "code",
   "execution_count": null,
   "metadata": {},
   "outputs": [],
   "source": [
    "class Solution:\n",
    "    def wordBreak(self, s: str, wordDict: List[str]) -> bool:\n",
    "        dp = [False] * (len(s)+1) #plus ine for our base case dp[8]\n",
    "        dp[len(s)] = True #the base case is true\n",
    "        for i in range (len(s)-1 , -1 , -1):#strat form the last (bottom up)\n",
    "            for w in wordDict:\n",
    "                if (i + len(w)) <= len(s) and s[i : i+len(w)] == w:#if i plus lenght of w is less that equal to lenght of s and s[i] goes from i to i plus len(w) is equal to w then update dp[i] with length if w\n",
    "                    dp[i] = dp[i + len(w)]\n",
    "                if dp[i]:\n",
    "                    break\n",
    "        return dp[0]"
   ]
  }
 ],
 "metadata": {
  "language_info": {
   "name": "python"
  },
  "orig_nbformat": 4
 },
 "nbformat": 4,
 "nbformat_minor": 2
}
