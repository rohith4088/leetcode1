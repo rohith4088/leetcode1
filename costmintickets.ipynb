{
 "cells": [
  {
   "cell_type": "code",
   "execution_count": null,
   "metadata": {},
   "outputs": [],
   "source": [
    "class Solution:\n",
    "    def mincostTickets(self, days: List[int], costs: List[int]) -> int:\n",
    "        dp = {}#cahciing the value\n",
    "        def dfs(i): #we only passed i because it contains the days thats the only parameter we need\n",
    "            if i == len(days):#base case : if the loop exceeds the length without finding any possible days then the cost is 0\n",
    "                return 0\n",
    "            if i in dp:\n",
    "                return dp[i] #if the branch already exsists in the dp then rerurn the value\n",
    "            dp[i] = float(\"inf\") #because thi so sthe biggest number i can take\n",
    "            for d , c in zip([1,7,30],costs):\n",
    "                j = i #initially j is set to i\n",
    "            while j < len(days) and days[j] < days[i] + d : #this parameter ensures that j checks till the day the ticket is valid\n",
    "                j+=1\n",
    "            dp[i] = min(dp[i],c+dfs(i+d))\n",
    "            return dp\n",
    "        dfs(0)\n",
    "\n",
    "\n",
    "#the 12th line cannot be written alone because if our list has non continous number our dfs algrithm will check the whole list even if the days are not present\n",
    "#hence we delcare j to handle that exception\n",
    "#zip is used to iterate through two lists simeltaneosly\n",
    "#[1,7,3] are the days \n",
    "#dp[i] is set to infinity intitally because thats the largest value ut can take \n",
    "# line 7 we only passed i because it contains the days thats the only parameter we need\n"
   ]
  }
 ],
 "metadata": {
  "language_info": {
   "name": "python"
  },
  "orig_nbformat": 4
 },
 "nbformat": 4,
 "nbformat_minor": 2
}
