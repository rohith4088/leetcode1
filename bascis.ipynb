{
 "cells": [
  {
   "cell_type": "code",
   "execution_count": 1,
   "metadata": {},
   "outputs": [
    {
     "name": "stdout",
     "output_type": "stream",
     "text": [
      "10\n",
      "5\n"
     ]
    }
   ],
   "source": [
    "#exchanging number without third variable\n",
    "a = 5\n",
    "b = 10\n",
    "a = a+b\n",
    "b = a-b\n",
    "a = a-b\n",
    "print(a)\n",
    "print(b)"
   ]
  },
  {
   "cell_type": "code",
   "execution_count": 6,
   "metadata": {},
   "outputs": [
    {
     "name": "stdout",
     "output_type": "stream",
     "text": [
      "100\n",
      "1000\n",
      "10000\n"
     ]
    }
   ],
   "source": [
    "k = 0\n",
    "n = 3\n",
    "b = 1\n",
    "b = a^k\n",
    "while k != n:\n",
    "    k = k+1\n",
    "    b = b*a\n",
    "    print(b)\n",
    "    \n"
   ]
  },
  {
   "cell_type": "code",
   "execution_count": 1,
   "metadata": {},
   "outputs": [
    {
     "name": "stdout",
     "output_type": "stream",
     "text": [
      "True\n",
      "10\n"
     ]
    },
    {
     "data": {
      "text/plain": [
       "10"
      ]
     },
     "execution_count": 1,
     "metadata": {},
     "output_type": "execute_result"
    }
   ],
   "source": [
    "#time complexity\n",
    "#O(1)\n",
    "#array\n",
    "nums = [1,2,3,4] \n",
    "nums.append(5)#add at the end\n",
    "nums.pop()#remove from end \n",
    "nums[1]#lookup\n",
    "nums[2]#lookup\n",
    "\n",
    "\n",
    "#hasmap/set\n",
    "\n",
    "hashmap = {}\n",
    "hashmap['key'] = 10 #insert\n",
    "print(\"key\" in hashmap)#lookup\n",
    "print(hashmap['key'])#kookup\n",
    "hashmap.pop('key')#remove\n",
    "\n"
   ]
  },
  {
   "cell_type": "code",
   "execution_count": 2,
   "metadata": {},
   "outputs": [
    {
     "name": "stdout",
     "output_type": "stream",
     "text": [
      "1\n",
      "2\n",
      "3\n",
      "False\n"
     ]
    }
   ],
   "source": [
    "#O(n) time complexity\n",
    "nums = [1,2,3]\n",
    "sum(nums)#sum\n",
    "for i in nums: #looping through the loop\n",
    "    print(i)\n",
    "nums.insert(1,100) #inseritg at the middle\n",
    "nums.remove(100)#removing from middle\n",
    "print(100 in nums) #search\n",
    "\n",
    "import heapq\n",
    "heapq.heapify(nums) #buld heap\n",
    "# sometimes even nested loops can be O(n)\n",
    "# (e.g. monotonic stack or sliding window)"
   ]
  },
  {
   "cell_type": "code",
   "execution_count": 18,
   "metadata": {},
   "outputs": [
    {
     "name": "stdout",
     "output_type": "stream",
     "text": [
      "1\n",
      "2\n",
      "3\n",
      "4\n",
      "5\n",
      "6\n",
      "7\n",
      "8\n",
      "9\n",
      "1 2\n",
      "1 3\n",
      "2 3\n"
     ]
    }
   ],
   "source": [
    "#O(n^2) time complexity\n",
    "#traverse a square grid\n",
    "nums = [[1,2,3],[4,5,6],[7,8,9]]\n",
    "for i in range (len(nums)):\n",
    "    for j in range (len(nums[i])):\n",
    "        print(nums[i][j])\n",
    "\n",
    "#get every pair of element in an array\n",
    "nums = [1, 2, 3]\n",
    "for i in range(len(nums)):\n",
    "    for j in range(i+1,len(nums)):\n",
    "        print(nums[i],nums[j])\n",
    "# Insertion sort (insert in middle n times -> n^2)"
   ]
  },
  {
   "cell_type": "code",
   "execution_count": 20,
   "metadata": {},
   "outputs": [
    {
     "name": "stdout",
     "output_type": "stream",
     "text": [
      "1 4\n",
      "1 5\n",
      "1 6\n",
      "2 4\n",
      "2 5\n",
      "2 6\n",
      "3 4\n",
      "3 5\n",
      "3 6\n",
      "--------------------------------\n",
      "1\n",
      "2\n",
      "3\n",
      "4\n",
      "5\n",
      "6\n"
     ]
    }
   ],
   "source": [
    "#O(n*m)\n",
    "#get every pais of element from two array\n",
    "nums1 , nums2 = [1,2,3],[4,5,6]\n",
    "for i in range(len(nums1)):\n",
    "    for j  in range(len(nums2)):\n",
    "        print(nums1[i],nums2[j])\n",
    "print(\"--------------------------------\")\n",
    "#traverse thriugh a rectangular grid\n",
    "nums = [[1,2,3],[4,5,6]]\n",
    "for i in range(len(nums)):\n",
    "    for j in range(len(nums[i])):\n",
    "        print(nums[i][j])\n",
    "        "
   ]
  },
  {
   "cell_type": "code",
   "execution_count": 22,
   "metadata": {},
   "outputs": [
    {
     "name": "stdout",
     "output_type": "stream",
     "text": [
      "1 2 3\n",
      "1 2 4\n",
      "1 2 5\n",
      "1 2 6\n",
      "1 3 4\n",
      "1 3 5\n",
      "1 3 6\n",
      "1 4 5\n",
      "1 4 6\n",
      "1 5 6\n",
      "2 3 4\n",
      "2 3 5\n",
      "2 3 6\n",
      "2 4 5\n",
      "2 4 6\n",
      "2 5 6\n",
      "3 4 5\n",
      "3 4 6\n",
      "3 5 6\n",
      "4 5 6\n"
     ]
    }
   ],
   "source": [
    "#O(n^3)\n",
    "#getting all the triplet pair\n",
    "nums = [1,2,3,4,5,6]\n",
    "for i in range(len(nums)):\n",
    "    for j in range(i+1,len(nums)):\n",
    "        for k in range(j+1, len(nums)):\n",
    "            print(nums[i],nums[j],nums[k])"
   ]
  },
  {
   "cell_type": "code",
   "execution_count": 23,
   "metadata": {},
   "outputs": [],
   "source": [
    "#O(logn)\n",
    "#binary search\n",
    "nums = [1,2,3,4,5]\n",
    "target = 6\n",
    "l,r = 0,len(nums)-1\n",
    "while l<=r:\n",
    "    m = (l+r)//2\n",
    "    if target < nums[m]:\n",
    "        r = m-1 \n",
    "    elif target > nums[m]:\n",
    "        l = m+1\n",
    "    else:\n",
    "        print(m)\n",
    "        break\n",
    "#binary search on bst\n",
    "def search(root,target):\n",
    "    if not  root:\n",
    "        return False\n",
    "    if root.val < target:\n",
    "        search(root.left,target)\n",
    "    if root.val > target :\n",
    "        search(root.right,target)\n",
    "    else:\n",
    "        return True\n"
   ]
  },
  {
   "cell_type": "code",
   "execution_count": null,
   "metadata": {},
   "outputs": [],
   "source": [
    "#O(nlogn)\n",
    "# HeapSort\n",
    "import heapq\n",
    "nums = [1, 2, 3, 4, 5]\n",
    "heapq.heapify(nums)     # O(n)\n",
    "while nums:\n",
    "    heapq.heappop(nums) # O(logn)\n",
    "\n",
    "# MergeSort (and most built-in sorting functions)\n"
   ]
  },
  {
   "cell_type": "code",
   "execution_count": null,
   "metadata": {},
   "outputs": [],
   "source": [
    "#O(2^n)\n",
    "# Recursion, tree height n, two branches\n",
    "def recursion(i, nums):\n",
    "    if i == len(nums):\n",
    "        return 0\n",
    "    branch1 = recursion(i + 1, nums)\n",
    "    branch2 = recursion(i + 2, nums)\n"
   ]
  },
  {
   "cell_type": "code",
   "execution_count": null,
   "metadata": {},
   "outputs": [],
   "source": [
    "#O(c^n)\n",
    "# c branches, where c is sometimes n.\n",
    "def recursion(i, nums, c):\n",
    "    if i == len(nums):\n",
    "        return 0\n",
    "    \n",
    "    for j in range(i, i + c):\n",
    "        branch = recursion(j + 1, nums)\n"
   ]
  },
  {
   "cell_type": "code",
   "execution_count": 28,
   "metadata": {},
   "outputs": [
    {
     "name": "stdout",
     "output_type": "stream",
     "text": [
      "False\n"
     ]
    }
   ],
   "source": [
    "nums = [1,2,3,4]\n",
    "flag = False\n",
    "for i in range(len(nums)):\n",
    "    for j in range(i+1,len(nums)):\n",
    "        if nums[i] == nums[j]:\n",
    "            flag = True\n",
    "            break\n",
    "print(flag)"
   ]
  },
  {
   "cell_type": "code",
   "execution_count": 2,
   "metadata": {},
   "outputs": [
    {
     "data": {
      "text/plain": [
       "True"
      ]
     },
     "execution_count": 2,
     "metadata": {},
     "output_type": "execute_result"
    }
   ],
   "source": [
    "#anagrm (array)\n",
    "s = \"anagram\"\n",
    "t = \"nagrama\"\n",
    "def anagram(s : str , t: str) -> bool:\n",
    "    if len(s) != len(t):\n",
    "        return False\n",
    "    countS , countT = {},{}\n",
    "    for i in range(len(s)):\n",
    "        countS[s[i]] = 1 + countS.get(s[i],0) #used to get past the key error \n",
    "        countT[t[i]] = 1 + countT.get(t[i],0)\n",
    "    for c in countS:\n",
    "        if countS[c] != countT.get(c,0):\n",
    "            return False\n",
    "    return True\n",
    "\n",
    "anagram(s,t)"
   ]
  },
  {
   "cell_type": "code",
   "execution_count": 55,
   "metadata": {},
   "outputs": [],
   "source": [
    "# #0(N^2)\n",
    "# nums = [3,2,4]\n",
    "# target = 6\n",
    "# res = []\n",
    "# for i in range(len(nums)):\n",
    "#     for j in range(i+1, len(nums)):\n",
    "#         if nums[i]+nums[j] == target:\n",
    "#             res.append(i)\n",
    "#             res.append(j)\n",
    "# print(res)\n",
    "\n",
    "#O(n)\n",
    "nums = [3,2,4]\n",
    "target = 6\n",
    "hashset = {}\n",
    "for i,n in enumerate(nums):\n",
    "    diff = target - i\n",
    "    if diff in hashset:\n",
    "        print([hashset[diff],i])\n",
    "    hashset[n] = i"
   ]
  },
  {
   "cell_type": "code",
   "execution_count": 68,
   "metadata": {},
   "outputs": [],
   "source": [
    "k = 2\n",
    "count = 0\n",
    "res = {}\n",
    "nums = [1,1,1,2,2,3]\n"
   ]
  },
  {
   "cell_type": "code",
   "execution_count": null,
   "metadata": {},
   "outputs": [],
   "source": [
    "#top k frequent elemnts\n"
   ]
  },
  {
   "cell_type": "code",
   "execution_count": 5,
   "metadata": {},
   "outputs": [
    {
     "data": {
      "text/plain": [
       "True"
      ]
     },
     "execution_count": 5,
     "metadata": {},
     "output_type": "execute_result"
    }
   ],
   "source": [
    "#anagram\n",
    "def anagram(s :str,t :str)-> bool:\n",
    "    if len(s) != len(t):\n",
    "        return False\n",
    "    countS = {}\n",
    "    countT = {}\n",
    "    for i in range(len(s)):\n",
    "        countS[s[i]] = countS.get(s[i],0)\n",
    "        countT[s[i]] = countT.get(s[i],0)\n",
    "    for c in countS:\n",
    "        if countS[c] != countT.get(c,0):\n",
    "            return False\n",
    "    return True\n",
    "anagram(\"anagram\",\"nangram\")"
   ]
  },
  {
   "cell_type": "code",
   "execution_count": 19,
   "metadata": {},
   "outputs": [
    {
     "name": "stdout",
     "output_type": "stream",
     "text": [
      "[1, 3, 4, 2, 3, 2, 332, 1]\n",
      "[1, 3, 2, 3, 2, 4, 1, 332]\n",
      "[1, 2, 3, 2, 3, 1, 4, 332]\n",
      "[1, 2, 2, 3, 1, 3, 4, 332]\n",
      "[1, 2, 2, 1, 3, 3, 4, 332]\n",
      "[1, 2, 1, 2, 3, 3, 4, 332]\n",
      "[1, 1, 2, 2, 3, 3, 4, 332]\n",
      "the number of comparisons are 28\n",
      " and the sorted array is [1, 1, 2, 2, 3, 3, 4, 332]\n"
     ]
    }
   ],
   "source": [
    "#bubble sort\n",
    "def bubble_sort(nums):\n",
    "    count = 0\n",
    "    flag = False\n",
    "    for i in range(len(nums)-1):\n",
    "        print(nums)\n",
    "        for j in range(len(nums)-i-1):\n",
    "            count += 1\n",
    "            if nums[j] > nums[j+1]:\n",
    "                nums[j],nums[j+1] = nums[j+1],nums[j]\n",
    "                flag = True\n",
    "        if flag == False:\n",
    "            break\n",
    "        \n",
    "    return f'the number of comparisons are {count}\\n and the sorted array is {nums}'\n",
    "nums = [1,3,4,2,3,2,332,1]\n",
    "print(bubble_sort(nums))"
   ]
  },
  {
   "cell_type": "code",
   "execution_count": 21,
   "metadata": {},
   "outputs": [
    {
     "name": "stdout",
     "output_type": "stream",
     "text": [
      "6\n"
     ]
    }
   ],
   "source": [
    "#Given an integer array nums, find the contiguous subarray (containing at least one number) which has the largest sum\n",
    "#and return its sum.\n",
    "#Example:\n",
    "#Input: [-2,1,-3,4,-1,2,1,-5,4],\n",
    "#Output: 6\n",
    "#Explanation: [4,-1,2,1] has the largest sum = 6.\n",
    "def max_subarray(nums):\n",
    "    maximum = 0\n",
    "    for i in range(len(nums)):\n",
    "        cum_sum = 0\n",
    "        for j in range(i,len(nums)):\n",
    "            cum_sum += nums[j]\n",
    "            maximum = max(cum_sum,maximum)\n",
    "    return maximum\n",
    "nums = [-2,1,-3,4,-1,2,1,-5,4]\n",
    "print(max_subarray(nums))"
   ]
  },
  {
   "cell_type": "code",
   "execution_count": 23,
   "metadata": {},
   "outputs": [
    {
     "name": "stdout",
     "output_type": "stream",
     "text": [
      "ERROR: Could not find file /var/folders/_t/qw5pnzq57hj6vr83mysgnb700000gn/T/ipykernel_35430/3090251240.py\n",
      "6\n"
     ]
    }
   ],
   "source": [
    "#a more optimised approach\n",
    "from memory_profiler import profile\n",
    "@profile(stream = open('memory_profiler.log','w+'))\n",
    "\n",
    "def max_subarray(nums):\n",
    "    max_sum = nums[0]\n",
    "    cum_sum = nums[0]\n",
    "    for i in range(1,len(nums)):\n",
    "        cum_sum = max(nums[i],cum_sum+nums[i])\n",
    "        max_sum = max(cum_sum,max_sum)\n",
    "    return max_sum\n",
    "nums = [-2,1,-3,4,-1,2,1,-5,4]\n",
    "print(max_subarray(nums))"
   ]
  },
  {
   "cell_type": "code",
   "execution_count": 3,
   "metadata": {},
   "outputs": [
    {
     "name": "stdout",
     "output_type": "stream",
     "text": [
      "[1, 3, 12, 0, 0]\n",
      "[1, 3, 12, 0, 0]\n"
     ]
    }
   ],
   "source": [
    "#Given an array nums, write a function to move all 0's to the end of it while maintaining the relative order of the non-zero elements.\n",
    "#Example:\n",
    "#Input: [0,1,0,3,12]\n",
    "#Output: [1,3,12,0,0]\n",
    "def move_zeroes(nums):\n",
    "    for i in range(len(nums)):\n",
    "        if nums[i] == 0:\n",
    "            nums.append(nums.pop(i))\n",
    "    return nums\n",
    "nums = [0,1,0,3,12]\n",
    "print(move_zeroes(nums))\n",
    "\n",
    "\n",
    "#one liear move\n",
    "\n",
    "def one_linear_move(nums):\n",
    "    nums.sort(key = bool,reverse = True)\n",
    "    return nums\n",
    "\n",
    "nums = [0,1,0,3,12]\n",
    "print(move_zeroes(nums))\n"
   ]
  },
  {
   "cell_type": "code",
   "execution_count": 6,
   "metadata": {},
   "outputs": [
    {
     "name": "stdout",
     "output_type": "stream",
     "text": [
      "94\n"
     ]
    }
   ],
   "source": [
    "# The oxygen value entered should not be accepted if it is not in the range between 1 and 100.\n",
    "# If the calculated maximum average oxygen value of trainees is below 70 then declare the trainees as unfit with meaningful message as “All trainees are unfit.\n",
    "# Average Oxygen Values should be rounded.\n",
    "def oxygen_calculator(nums):\n",
    "    if any(num < 1 or num > 100 for num in nums):\n",
    "        return \"Invalid input\"\n",
    "    average = sum(nums)//len(nums)\n",
    "    if average < 70:\n",
    "        return \"All trainees are unfit\"\n",
    "    return round(average)\n",
    "\n",
    "nums = [90,91,92,93,94,95,96,97,98,99]\n",
    "print(oxygen_calculator(nums))\n",
    "\n"
   ]
  },
  {
   "cell_type": "code",
   "execution_count": 17,
   "metadata": {},
   "outputs": [
    {
     "name": "stdout",
     "output_type": "stream",
     "text": [
      "most fit trainee is -->[1], with the oxygen level of-->75\n"
     ]
    }
   ],
   "source": [
    "def fitness_test(oxygen_levels):\n",
    "    averages = [round(sum(levels) / len(levels)) for levels in oxygen_levels]\n",
    "    if max(averages) < 70:\n",
    "        return \"All trainees are unfit\"\n",
    "    max_avg = max(averages)\n",
    "    most_fit_trainees = [i+1 for i, avg in enumerate(averages) if avg >= max_avg]\n",
    "    return f'most fit trainee is -->{most_fit_trainees}, with the oxygen level of-->{max_avg}'\n",
    "oxygen_levels = [[75,75,74],[75,75,73],[75,75,71]]\n",
    "print(fitness_test(oxygen_levels))"
   ]
  },
  {
   "cell_type": "code",
   "execution_count": 38,
   "metadata": {},
   "outputs": [
    {
     "name": "stdout",
     "output_type": "stream",
     "text": [
      "OR result: 1\n",
      "AND result: 0\n",
      "XOR result: 0\n"
     ]
    }
   ],
   "source": [
    "s = 'a0b1c0d1'\n",
    "or_result = 0\n",
    "and_result = 1\n",
    "xor_result = 0\n",
    "\n",
    "for i in s:\n",
    "    if i.isnumeric():\n",
    "        num = int(i)\n",
    "        or_result |= num\n",
    "        and_result &= num\n",
    "        xor_result ^= num\n",
    "\n",
    "print(\"OR result:\", or_result)\n",
    "print(\"AND result:\", and_result)\n",
    "print(\"XOR result:\", xor_result)"
   ]
  },
  {
   "cell_type": "code",
   "execution_count": 67,
   "metadata": {},
   "outputs": [
    {
     "name": "stdout",
     "output_type": "stream",
     "text": [
      "valid\n"
     ]
    }
   ],
   "source": [
    "def vaild_password(s):\n",
    "    if len(s) > 4:\n",
    "        if s[0] != int and any(words.isupper() for words in s) and any(words.islower() for words in s) and any(words.isdigit() for words in s) and (words not in['$','@',' '] for words in s):\n",
    "            print(\"valid\")\n",
    "        else:\n",
    "            print(\"invalid\")\n",
    "\n",
    "s = \"Rohith134\"\n",
    "vaild_password(s)"
   ]
  },
  {
   "cell_type": "code",
   "execution_count": 72,
   "metadata": {},
   "outputs": [
    {
     "name": "stdout",
     "output_type": "stream",
     "text": [
      "rnnitn\n"
     ]
    }
   ],
   "source": [
    "import string\n",
    "def char_replace(s):\n",
    "    for i in s:\n",
    "        if i.isalpha() and i.islower():\n",
    "            if i == 'h':\n",
    "                s = s.replace(i,'n') \n",
    "            if i == 'o':\n",
    "                s = s.replace(i,'h')\n",
    "    return s \n",
    "s = 'rohith'\n",
    "print(char_replace(s))"
   ]
  },
  {
   "cell_type": "code",
   "execution_count": 74,
   "metadata": {},
   "outputs": [
    {
     "name": "stdout",
     "output_type": "stream",
     "text": [
      "('0xa', 10.0, (10+0j), 10)\n"
     ]
    }
   ],
   "source": [
    "def intTobaseN(num):\n",
    "    return hex(num), float(num), complex(num),int(num)\n",
    "print(intTobaseN(10))\n"
   ]
  },
  {
   "cell_type": "code",
   "execution_count": 2,
   "metadata": {},
   "outputs": [
    {
     "name": "stdout",
     "output_type": "stream",
     "text": [
      "90\n"
     ]
    }
   ],
   "source": [
    "def sum_difference(n, m):\n",
    "    # Initialize sums\n",
    "    sum_divisible = 0\n",
    "    sum_not_divisible = 0\n",
    "\n",
    "    # Iterate through the range from 1 to m\n",
    "    for i in range(1, m + 1):\n",
    "        # Check if the number is divisible by n\n",
    "        if i % n == 0:\n",
    "            # If divisible, add to the sum of divisible numbers\n",
    "            sum_divisible += i\n",
    "        else:\n",
    "            # If not divisible, add to the sum of not divisible numbers\n",
    "            sum_not_divisible += i\n",
    "\n",
    "    # Calculate the difference between the two sums\n",
    "    difference = sum_not_divisible - sum_divisible\n",
    "\n",
    "    return difference\n",
    "\n",
    "# Example usage\n",
    "n = 4\n",
    "m = 20\n",
    "print(sum_difference(n, m)) # Output should be 27"
   ]
  },
  {
   "cell_type": "code",
   "execution_count": null,
   "metadata": {},
   "outputs": [],
   "source": []
  }
 ],
 "metadata": {
  "kernelspec": {
   "display_name": "Python 3",
   "language": "python",
   "name": "python3"
  },
  "language_info": {
   "codemirror_mode": {
    "name": "ipython",
    "version": 3
   },
   "file_extension": ".py",
   "mimetype": "text/x-python",
   "name": "python",
   "nbconvert_exporter": "python",
   "pygments_lexer": "ipython3",
   "version": "3.10.13"
  }
 },
 "nbformat": 4,
 "nbformat_minor": 2
}
