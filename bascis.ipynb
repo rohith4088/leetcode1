{
 "cells": [
  {
   "cell_type": "code",
   "execution_count": 1,
   "metadata": {},
   "outputs": [
    {
     "name": "stdout",
     "output_type": "stream",
     "text": [
      "10\n",
      "5\n"
     ]
    }
   ],
   "source": [
    "#exchanging number without third variable\n",
    "a = 5\n",
    "b = 10\n",
    "a = a+b\n",
    "b = a-b\n",
    "a = a-b\n",
    "print(a)\n",
    "print(b)"
   ]
  },
  {
   "cell_type": "code",
   "execution_count": 6,
   "metadata": {},
   "outputs": [
    {
     "name": "stdout",
     "output_type": "stream",
     "text": [
      "100\n",
      "1000\n",
      "10000\n"
     ]
    }
   ],
   "source": [
    "k = 0\n",
    "n = 3\n",
    "b = 1\n",
    "b = a^k\n",
    "while k != n:\n",
    "    k = k+1\n",
    "    b = b*a\n",
    "    print(b)\n",
    "    \n"
   ]
  },
  {
   "cell_type": "code",
   "execution_count": 1,
   "metadata": {},
   "outputs": [
    {
     "name": "stdout",
     "output_type": "stream",
     "text": [
      "True\n",
      "10\n"
     ]
    },
    {
     "data": {
      "text/plain": [
       "10"
      ]
     },
     "execution_count": 1,
     "metadata": {},
     "output_type": "execute_result"
    }
   ],
   "source": [
    "#time complexity\n",
    "#O(1)\n",
    "#array\n",
    "nums = [1,2,3,4] \n",
    "nums.append(5)#add at the end\n",
    "nums.pop()#remove from end \n",
    "nums[1]#lookup\n",
    "nums[2]#lookup\n",
    "\n",
    "\n",
    "#hasmap/set\n",
    "\n",
    "hashmap = {}\n",
    "hashmap['key'] = 10 #insert\n",
    "print(\"key\" in hashmap)#lookup\n",
    "print(hashmap['key'])#kookup\n",
    "hashmap.pop('key')#remove\n",
    "\n"
   ]
  },
  {
   "cell_type": "code",
   "execution_count": 2,
   "metadata": {},
   "outputs": [
    {
     "name": "stdout",
     "output_type": "stream",
     "text": [
      "1\n",
      "2\n",
      "3\n",
      "False\n"
     ]
    }
   ],
   "source": [
    "#O(n) time complexity\n",
    "nums = [1,2,3]\n",
    "sum(nums)#sum\n",
    "for i in nums: #looping through the loop\n",
    "    print(i)\n",
    "nums.insert(1,100) #inseritg at the middle\n",
    "nums.remove(100)#removing from middle\n",
    "print(100 in nums) #search\n",
    "\n",
    "import heapq\n",
    "heapq.heapify(nums) #buld heap\n",
    "# sometimes even nested loops can be O(n)\n",
    "# (e.g. monotonic stack or sliding window)"
   ]
  },
  {
   "cell_type": "code",
   "execution_count": 5,
   "metadata": {},
   "outputs": [
    {
     "name": "stdout",
     "output_type": "stream",
     "text": [
      "1\n",
      "2\n",
      "3\n",
      "4\n",
      "5\n",
      "6\n",
      "7\n",
      "8\n",
      "9\n"
     ]
    }
   ],
   "source": [
    "#O(n^2) time complexity\n",
    "#traverse a square grid\n",
    "nums = [[1,2,3],[4,5,6],[7,8,9]]\n",
    "for i in range (len(nums)):\n",
    "    for j in range (len(nums[i])):\n",
    "        print(nums[i][j])"
   ]
  },
  {
   "cell_type": "code",
   "execution_count": null,
   "metadata": {},
   "outputs": [],
   "source": []
  }
 ],
 "metadata": {
  "kernelspec": {
   "display_name": "Python 3",
   "language": "python",
   "name": "python3"
  },
  "language_info": {
   "codemirror_mode": {
    "name": "ipython",
    "version": 3
   },
   "file_extension": ".py",
   "mimetype": "text/x-python",
   "name": "python",
   "nbconvert_exporter": "python",
   "pygments_lexer": "ipython3",
   "version": "3.8.17"
  }
 },
 "nbformat": 4,
 "nbformat_minor": 2
}
