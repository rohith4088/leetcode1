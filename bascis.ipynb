{
 "cells": [
  {
   "cell_type": "code",
   "execution_count": 1,
   "metadata": {},
   "outputs": [
    {
     "name": "stdout",
     "output_type": "stream",
     "text": [
      "10\n",
      "5\n"
     ]
    }
   ],
   "source": [
    "#exchanging number without third variable\n",
    "a = 5\n",
    "b = 10\n",
    "a = a+b\n",
    "b = a-b\n",
    "a = a-b\n",
    "print(a)\n",
    "print(b)"
   ]
  },
  {
   "cell_type": "code",
   "execution_count": 6,
   "metadata": {},
   "outputs": [
    {
     "name": "stdout",
     "output_type": "stream",
     "text": [
      "100\n",
      "1000\n",
      "10000\n"
     ]
    }
   ],
   "source": [
    "k = 0\n",
    "n = 3\n",
    "b = 1\n",
    "b = a^k\n",
    "while k != n:\n",
    "    k = k+1\n",
    "    b = b*a\n",
    "    print(b)\n",
    "    \n"
   ]
  },
  {
   "cell_type": "code",
   "execution_count": 1,
   "metadata": {},
   "outputs": [
    {
     "name": "stdout",
     "output_type": "stream",
     "text": [
      "True\n",
      "10\n"
     ]
    },
    {
     "data": {
      "text/plain": [
       "10"
      ]
     },
     "execution_count": 1,
     "metadata": {},
     "output_type": "execute_result"
    }
   ],
   "source": [
    "#time complexity\n",
    "#O(1)\n",
    "#array\n",
    "nums = [1,2,3,4] \n",
    "nums.append(5)#add at the end\n",
    "nums.pop()#remove from end \n",
    "nums[1]#lookup\n",
    "nums[2]#lookup\n",
    "\n",
    "\n",
    "#hasmap/set\n",
    "\n",
    "hashmap = {}\n",
    "hashmap['key'] = 10 #insert\n",
    "print(\"key\" in hashmap)#lookup\n",
    "print(hashmap['key'])#kookup\n",
    "hashmap.pop('key')#remove\n",
    "\n"
   ]
  },
  {
   "cell_type": "code",
   "execution_count": null,
   "metadata": {},
   "outputs": [],
   "source": []
  }
 ],
 "metadata": {
  "kernelspec": {
   "display_name": "Python 3",
   "language": "python",
   "name": "python3"
  },
  "language_info": {
   "codemirror_mode": {
    "name": "ipython",
    "version": 3
   },
   "file_extension": ".py",
   "mimetype": "text/x-python",
   "name": "python",
   "nbconvert_exporter": "python",
   "pygments_lexer": "ipython3",
   "version": "3.8.17"
  }
 },
 "nbformat": 4,
 "nbformat_minor": 2
}
