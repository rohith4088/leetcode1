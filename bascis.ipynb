{
 "cells": [
  {
   "cell_type": "code",
   "execution_count": 1,
   "metadata": {},
   "outputs": [
    {
     "name": "stdout",
     "output_type": "stream",
     "text": [
      "10\n",
      "5\n"
     ]
    }
   ],
   "source": [
    "#exchanging number without third variable\n",
    "a = 5\n",
    "b = 10\n",
    "a = a+b\n",
    "b = a-b\n",
    "a = a-b\n",
    "print(a)\n",
    "print(b)"
   ]
  },
  {
   "cell_type": "code",
   "execution_count": 6,
   "metadata": {},
   "outputs": [
    {
     "name": "stdout",
     "output_type": "stream",
     "text": [
      "100\n",
      "1000\n",
      "10000\n"
     ]
    }
   ],
   "source": [
    "k = 0\n",
    "n = 3\n",
    "b = 1\n",
    "b = a^k\n",
    "while k != n:\n",
    "    k = k+1\n",
    "    b = b*a\n",
    "    print(b)\n",
    "    \n"
   ]
  },
  {
   "cell_type": "code",
   "execution_count": 1,
   "metadata": {},
   "outputs": [
    {
     "name": "stdout",
     "output_type": "stream",
     "text": [
      "True\n",
      "10\n"
     ]
    },
    {
     "data": {
      "text/plain": [
       "10"
      ]
     },
     "execution_count": 1,
     "metadata": {},
     "output_type": "execute_result"
    }
   ],
   "source": [
    "#time complexity\n",
    "#O(1)\n",
    "#array\n",
    "nums = [1,2,3,4] \n",
    "nums.append(5)#add at the end\n",
    "nums.pop()#remove from end \n",
    "nums[1]#lookup\n",
    "nums[2]#lookup\n",
    "\n",
    "\n",
    "#hasmap/set\n",
    "\n",
    "hashmap = {}\n",
    "hashmap['key'] = 10 #insert\n",
    "print(\"key\" in hashmap)#lookup\n",
    "print(hashmap['key'])#kookup\n",
    "hashmap.pop('key')#remove\n",
    "\n"
   ]
  },
  {
   "cell_type": "code",
   "execution_count": 2,
   "metadata": {},
   "outputs": [
    {
     "name": "stdout",
     "output_type": "stream",
     "text": [
      "1\n",
      "2\n",
      "3\n",
      "False\n"
     ]
    }
   ],
   "source": [
    "#O(n) time complexity\n",
    "nums = [1,2,3]\n",
    "sum(nums)#sum\n",
    "for i in nums: #looping through the loop\n",
    "    print(i)\n",
    "nums.insert(1,100) #inseritg at the middle\n",
    "nums.remove(100)#removing from middle\n",
    "print(100 in nums) #search\n",
    "\n",
    "import heapq\n",
    "heapq.heapify(nums) #buld heap\n",
    "# sometimes even nested loops can be O(n)\n",
    "# (e.g. monotonic stack or sliding window)"
   ]
  },
  {
   "cell_type": "code",
   "execution_count": 18,
   "metadata": {},
   "outputs": [
    {
     "name": "stdout",
     "output_type": "stream",
     "text": [
      "1\n",
      "2\n",
      "3\n",
      "4\n",
      "5\n",
      "6\n",
      "7\n",
      "8\n",
      "9\n",
      "1 2\n",
      "1 3\n",
      "2 3\n"
     ]
    }
   ],
   "source": [
    "#O(n^2) time complexity\n",
    "#traverse a square grid\n",
    "nums = [[1,2,3],[4,5,6],[7,8,9]]\n",
    "for i in range (len(nums)):\n",
    "    for j in range (len(nums[i])):\n",
    "        print(nums[i][j])\n",
    "\n",
    "#get every pair of element in an array\n",
    "nums = [1, 2, 3]\n",
    "for i in range(len(nums)):\n",
    "    for j in range(i+1,len(nums)):\n",
    "        print(nums[i],nums[j])\n",
    "# Insertion sort (insert in middle n times -> n^2)"
   ]
  },
  {
   "cell_type": "code",
   "execution_count": 20,
   "metadata": {},
   "outputs": [
    {
     "name": "stdout",
     "output_type": "stream",
     "text": [
      "1 4\n",
      "1 5\n",
      "1 6\n",
      "2 4\n",
      "2 5\n",
      "2 6\n",
      "3 4\n",
      "3 5\n",
      "3 6\n",
      "--------------------------------\n",
      "1\n",
      "2\n",
      "3\n",
      "4\n",
      "5\n",
      "6\n"
     ]
    }
   ],
   "source": [
    "#O(n*m)\n",
    "#get every pais of element from two array\n",
    "nums1 , nums2 = [1,2,3],[4,5,6]\n",
    "for i in range(len(nums1)):\n",
    "    for j  in range(len(nums2)):\n",
    "        print(nums1[i],nums2[j])\n",
    "print(\"--------------------------------\")\n",
    "#traverse thriugh a rectangular grid\n",
    "nums = [[1,2,3],[4,5,6]]\n",
    "for i in range(len(nums)):\n",
    "    for j in range(len(nums[i])):\n",
    "        print(nums[i][j])\n",
    "        "
   ]
  },
  {
   "cell_type": "code",
   "execution_count": 22,
   "metadata": {},
   "outputs": [
    {
     "name": "stdout",
     "output_type": "stream",
     "text": [
      "1 2 3\n",
      "1 2 4\n",
      "1 2 5\n",
      "1 2 6\n",
      "1 3 4\n",
      "1 3 5\n",
      "1 3 6\n",
      "1 4 5\n",
      "1 4 6\n",
      "1 5 6\n",
      "2 3 4\n",
      "2 3 5\n",
      "2 3 6\n",
      "2 4 5\n",
      "2 4 6\n",
      "2 5 6\n",
      "3 4 5\n",
      "3 4 6\n",
      "3 5 6\n",
      "4 5 6\n"
     ]
    }
   ],
   "source": [
    "#O(n^3)\n",
    "#getting all the triplet pair\n",
    "nums = [1,2,3,4,5,6]\n",
    "for i in range(len(nums)):\n",
    "    for j in range(i+1,len(nums)):\n",
    "        for k in range(j+1, len(nums)):\n",
    "            print(nums[i],nums[j],nums[k])"
   ]
  },
  {
   "cell_type": "code",
   "execution_count": 23,
   "metadata": {},
   "outputs": [],
   "source": [
    "#O(logn)\n",
    "#binary search\n",
    "nums = [1,2,3,4,5]\n",
    "target = 6\n",
    "l,r = 0,len(nums)-1\n",
    "while l<=r:\n",
    "    m = (l+r)//2\n",
    "    if target < nums[m]:\n",
    "        r = m-1 \n",
    "    elif target > nums[m]:\n",
    "        l = m+1\n",
    "    else:\n",
    "        print(m)\n",
    "        break\n",
    "#binary search on bst\n",
    "def search(root,target):\n",
    "    if not  root:\n",
    "        return False\n",
    "    if root.val < target:\n",
    "        search(root.left,target)\n",
    "    if root.val > target :\n",
    "        search(root.right,target)\n",
    "    else:\n",
    "        return True\n"
   ]
  },
  {
   "cell_type": "code",
   "execution_count": null,
   "metadata": {},
   "outputs": [],
   "source": [
    "#O(nlogn)\n",
    "# HeapSort\n",
    "import heapq\n",
    "nums = [1, 2, 3, 4, 5]\n",
    "heapq.heapify(nums)     # O(n)\n",
    "while nums:\n",
    "    heapq.heappop(nums) # O(logn)\n",
    "\n",
    "# MergeSort (and most built-in sorting functions)\n"
   ]
  },
  {
   "cell_type": "code",
   "execution_count": null,
   "metadata": {},
   "outputs": [],
   "source": [
    "#O(2^n)\n",
    "# Recursion, tree height n, two branches\n",
    "def recursion(i, nums):\n",
    "    if i == len(nums):\n",
    "        return 0\n",
    "    branch1 = recursion(i + 1, nums)\n",
    "    branch2 = recursion(i + 2, nums)\n"
   ]
  },
  {
   "cell_type": "code",
   "execution_count": null,
   "metadata": {},
   "outputs": [],
   "source": [
    "#O(c^n)\n",
    "# c branches, where c is sometimes n.\n",
    "def recursion(i, nums, c):\n",
    "    if i == len(nums):\n",
    "        return 0\n",
    "    \n",
    "    for j in range(i, i + c):\n",
    "        branch = recursion(j + 1, nums)\n"
   ]
  },
  {
   "cell_type": "code",
   "execution_count": 28,
   "metadata": {},
   "outputs": [
    {
     "name": "stdout",
     "output_type": "stream",
     "text": [
      "False\n"
     ]
    }
   ],
   "source": [
    "nums = [1,2,3,4]\n",
    "flag = False\n",
    "for i in range(len(nums)):\n",
    "    for j in range(i+1,len(nums)):\n",
    "        if nums[i] == nums[j]:\n",
    "            flag = True\n",
    "            break\n",
    "print(flag)"
   ]
  },
  {
   "cell_type": "code",
   "execution_count": 45,
   "metadata": {},
   "outputs": [
    {
     "data": {
      "text/plain": [
       "False"
      ]
     },
     "execution_count": 45,
     "metadata": {},
     "output_type": "execute_result"
    }
   ],
   "source": [
    "#anagrm (array)\n",
    "s = \"anagram\"\n",
    "t = \"nagram\"\n",
    "def anagram(s : str , t: str) -> bool:\n",
    "    if len(s) != len(t):\n",
    "        return False\n",
    "    countS , countT = {},{}\n",
    "    for i in range(len(s)):\n",
    "        countS[s[i]] = 1 + countS.get(s[i],0)\n",
    "        countT[t[i]] = 1 + countT.get(t[i],0)\n",
    "    for c in countS:\n",
    "        if countS[c] != countT.get(c,0):\n",
    "            return False\n",
    "    return True\n",
    "\n",
    "anagram(s,t)"
   ]
  },
  {
   "cell_type": "code",
   "execution_count": 55,
   "metadata": {},
   "outputs": [],
   "source": [
    "# #0(N^2)\n",
    "# nums = [3,2,4]\n",
    "# target = 6\n",
    "# res = []\n",
    "# for i in range(len(nums)):\n",
    "#     for j in range(i+1, len(nums)):\n",
    "#         if nums[i]+nums[j] == target:\n",
    "#             res.append(i)\n",
    "#             res.append(j)\n",
    "# print(res)\n",
    "\n",
    "#O(n)\n",
    "nums = [3,2,4]\n",
    "target = 6\n",
    "hashset = {}\n",
    "for i,n in enumerate(nums):\n",
    "    diff = target - i\n",
    "    if diff in hashset:\n",
    "        print([hashset[diff],i])\n",
    "    hashset[n] = i"
   ]
  },
  {
   "cell_type": "code",
   "execution_count": null,
   "metadata": {},
   "outputs": [],
   "source": []
  }
 ],
 "metadata": {
  "kernelspec": {
   "display_name": "Python 3",
   "language": "python",
   "name": "python3"
  },
  "language_info": {
   "codemirror_mode": {
    "name": "ipython",
    "version": 3
   },
   "file_extension": ".py",
   "mimetype": "text/x-python",
   "name": "python",
   "nbconvert_exporter": "python",
   "pygments_lexer": "ipython3",
   "version": "3.8.17"
  }
 },
 "nbformat": 4,
 "nbformat_minor": 2
}
