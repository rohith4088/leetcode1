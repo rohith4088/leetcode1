{
 "cells": [
  {
   "cell_type": "code",
   "execution_count": null,
   "metadata": {},
   "outputs": [],
   "source": [
    "#the optimal so;ution can be achived by deque\n",
    "#we initalize a decreasng deque \n",
    "#we do it because we need linear time complexity for adding and remving elementsfrom the queue\n",
    "#so, we check if the elemnet is greater than the previous element then we add in in the left most position.\n",
    "#after we add this element we pop the previous elemnet beccause there is no need to look at that elemnet now\n",
    "#now, if the elemnet that we are looking at is less than the previous elemnet then we add the elemnt to the decreasing queue and that previous elemnt bcomes out of bound and gets added to the output array\n",
    "#this solution is called as monotonically decreasing queue\n",
    "import collections\n",
    "def maxslidingwindow(self , nums : List[int] , k : int) -> List[int]:\n",
    "    output = []\n",
    "    q = collections.deque\n",
    "    l = r = 0 #pointers\n",
    "    while r < len(nums):#keep r inbound \n",
    "        while q and q[nums[-1]] < nums[r]: #whole q is not empty and the top of deque is less than the current number \n",
    "            q.pop()\n",
    "        q.append(r)#append the next number \n",
    "        if l > q[0]:\n",
    "            q.popleft()\n",
    "        if (r+1) >= k:#corner case\n",
    "            output.append(nums[q[0]])\n",
    "            l += 1\n",
    "        r += 1 \n",
    "    return output"
   ]
  }
 ],
 "metadata": {
  "language_info": {
   "name": "python"
  },
  "orig_nbformat": 4
 },
 "nbformat": 4,
 "nbformat_minor": 2
}
