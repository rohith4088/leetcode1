{
 "cells": [
  {
   "cell_type": "code",
   "execution_count": 1,
   "metadata": {},
   "outputs": [
    {
     "ename": "NameError",
     "evalue": "name 'List' is not defined",
     "output_type": "error",
     "traceback": [
      "\u001b[0;31m---------------------------------------------------------------------------\u001b[0m",
      "\u001b[0;31mNameError\u001b[0m                                 Traceback (most recent call last)",
      "\u001b[1;32m/Users/rohithr/Desktop/leetcode/coinchnage2.ipynb Cell 1\u001b[0m line \u001b[0;36m1\n\u001b[0;32m----> <a href='vscode-notebook-cell:/Users/rohithr/Desktop/leetcode/coinchnage2.ipynb#W0sZmlsZQ%3D%3D?line=0'>1</a>\u001b[0m \u001b[39mclass\u001b[39;00m \u001b[39mSolution\u001b[39;00m:\n\u001b[1;32m      <a href='vscode-notebook-cell:/Users/rohithr/Desktop/leetcode/coinchnage2.ipynb#W0sZmlsZQ%3D%3D?line=1'>2</a>\u001b[0m     \u001b[39mdef\u001b[39;00m \u001b[39mchange\u001b[39m(\u001b[39mself\u001b[39m, amount: \u001b[39mint\u001b[39m, coins: List[\u001b[39mint\u001b[39m]) \u001b[39m-\u001b[39m\u001b[39m>\u001b[39m \u001b[39mint\u001b[39m:\n\u001b[1;32m      <a href='vscode-notebook-cell:/Users/rohithr/Desktop/leetcode/coinchnage2.ipynb#W0sZmlsZQ%3D%3D?line=2'>3</a>\u001b[0m         memo \u001b[39m=\u001b[39m {}\n",
      "\u001b[1;32m/Users/rohithr/Desktop/leetcode/coinchnage2.ipynb Cell 1\u001b[0m line \u001b[0;36m2\n\u001b[1;32m      <a href='vscode-notebook-cell:/Users/rohithr/Desktop/leetcode/coinchnage2.ipynb#W0sZmlsZQ%3D%3D?line=0'>1</a>\u001b[0m \u001b[39mclass\u001b[39;00m \u001b[39mSolution\u001b[39;00m:\n\u001b[0;32m----> <a href='vscode-notebook-cell:/Users/rohithr/Desktop/leetcode/coinchnage2.ipynb#W0sZmlsZQ%3D%3D?line=1'>2</a>\u001b[0m     \u001b[39mdef\u001b[39;00m \u001b[39mchange\u001b[39m(\u001b[39mself\u001b[39m, amount: \u001b[39mint\u001b[39m, coins: List[\u001b[39mint\u001b[39m]) \u001b[39m-\u001b[39m\u001b[39m>\u001b[39m \u001b[39mint\u001b[39m:\n\u001b[1;32m      <a href='vscode-notebook-cell:/Users/rohithr/Desktop/leetcode/coinchnage2.ipynb#W0sZmlsZQ%3D%3D?line=2'>3</a>\u001b[0m         memo \u001b[39m=\u001b[39m {}\n\u001b[1;32m      <a href='vscode-notebook-cell:/Users/rohithr/Desktop/leetcode/coinchnage2.ipynb#W0sZmlsZQ%3D%3D?line=3'>4</a>\u001b[0m         \u001b[39mdef\u001b[39;00m \u001b[39mdfs\u001b[39m(i,a):\n",
      "\u001b[0;31mNameError\u001b[0m: name 'List' is not defined"
     ]
    }
   ],
   "source": [
    "class Solution:\n",
    "    def change(self, amount: int, coins: List[int]) -> int:\n",
    "        memo = {}\n",
    "        def dfs(i,a):\n",
    "            if a == amount:\n",
    "                return 1\n",
    "            if a > amount:\n",
    "                return 0\n",
    "            if i == len(coins):\n",
    "                return 0\n",
    "            if (i,a) in memo:\n",
    "                return memo[(i,a)]\n",
    "            memo[(i,a)] = dfs(i,a+coins[i]) + dfs(i+1,a)\n",
    "            return memo[(i,a)]\n",
    "        return dfs(0,0)\n"
   ]
  },
  {
   "cell_type": "code",
   "execution_count": null,
   "metadata": {},
   "outputs": [],
   "source": []
  }
 ],
 "metadata": {
  "kernelspec": {
   "display_name": "Python 3",
   "language": "python",
   "name": "python3"
  },
  "language_info": {
   "codemirror_mode": {
    "name": "ipython",
    "version": 3
   },
   "file_extension": ".py",
   "mimetype": "text/x-python",
   "name": "python",
   "nbconvert_exporter": "python",
   "pygments_lexer": "ipython3",
   "version": "3.8.17"
  },
  "orig_nbformat": 4
 },
 "nbformat": 4,
 "nbformat_minor": 2
}
