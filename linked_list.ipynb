{
 "cells": [
  {
   "cell_type": "code",
   "execution_count": null,
   "metadata": {},
   "outputs": [],
   "source": [
    "#linked lista are as the  name suggests lists whihc are linked\n",
    "#a linked list consists for two concepts a node and a pointer,the node contians the data and the pointer points to the next data in the linked list\n",
    "#the linked list is connected with the jhelps of pointers\n",
    "#the node are scatterd in the momory analogous to the buckets in hashmap\n",
    "#the node where the list starts is the head and the node where it ends is the tail\n",
    "\n",
    "#IMPLEMENTATION\n",
    "#first we will create the node class --> it is the buleprint of all our nodes\n",
    "class Node():\n",
    "    def __init__(self,data): #when initialising the node we will pass the data that we wnat our node to hold\n",
    "        self.data = data # the data passed during instantiation will be stored in self.data\n",
    "        self.next = None #the next always points to the next data  the node and when creating a new node it always points to null or none\n",
    "        \n",
    "#next we initialise the LinkedList class that contains the head , tail and length(optional) of the linekd list\n",
    "class LinkedList():\n",
    "    def __init__(self):\n",
    "        self.head = None #initially when our linked list is empty we point out head tail to none and length is intitaled as 0\n",
    "        self.tail = self.head\n",
    "        self.length = 0\n",
    "    #implementing \"append\" method--> that adds element to the end of the list O(n)\n",
    "    #the data is passed by the user , the creats a new node that will contain the data\n",
    "    #then we check if the ll is empty if it is then we point the new node as the head and as there is only node in ll we point tail to head and set the length as 1\n",
    "    #if the ll is not empty then we point the \"next\" pointer of the tail to point to the new node and make the new node as the tail and increase the length as 1\n",
    "    \n",
    "    def append(self,data):\n",
    "        new_node = Node(data) \n",
    "        if self.head == None:\n",
    "            self.head = new_node\n",
    "            self.tail = self.head\n",
    "            self.length = 1\n",
    "        else:\n",
    "            self.tail.next = new_node\n",
    "            self.tail = new_node\n",
    "            self.length += 1\n",
    "        \n",
    "        "
   ]
  }
 ],
 "metadata": {
  "language_info": {
   "name": "python"
  }
 },
 "nbformat": 4,
 "nbformat_minor": 2
}
