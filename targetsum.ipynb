{
 "cells": [
  {
   "cell_type": "code",
   "execution_count": null,
   "metadata": {},
   "outputs": [],
   "source": [
    "#zero/one knapsack\n",
    "def targetsum(self , nums : List[int] , target : int) -> int:\n",
    "    dp = {} #this is a hashmap storing values in the form of (i ,total)\n",
    "    def backtrack(i ,total):\n",
    "        if i == len(nums):\n",
    "            return 1 if total == target else 0\n",
    "        if dp[(i,total)] in dp :\n",
    "            return dp[(i,total)]\n",
    "        dp[(i,total)] = (backtrack(i+1, total + nums[i]) + backtrack(i + 1 , total - nums[i]))\n",
    "        return dp[(i,total)]\n",
    "    return backtrack(0,0)"
   ]
  },
  {
   "cell_type": "code",
   "execution_count": 1,
   "metadata": {},
   "outputs": [
    {
     "ename": "NameError",
     "evalue": "name 'List' is not defined",
     "output_type": "error",
     "traceback": [
      "\u001b[0;31m---------------------------------------------------------------------------\u001b[0m",
      "\u001b[0;31mNameError\u001b[0m                                 Traceback (most recent call last)",
      "Cell \u001b[0;32mIn[1], line 2\u001b[0m\n\u001b[1;32m      1\u001b[0m \u001b[38;5;66;03m#target sum\u001b[39;00m\n\u001b[0;32m----> 2\u001b[0m \u001b[38;5;28;01mdef\u001b[39;00m \u001b[38;5;21mtargetsum\u001b[39m(\u001b[38;5;28mself\u001b[39m , nums : \u001b[43mList\u001b[49m[nums] , target :\u001b[38;5;28mint\u001b[39m) \u001b[38;5;241m-\u001b[39m\u001b[38;5;241m>\u001b[39m \u001b[38;5;28mint\u001b[39m:\n\u001b[1;32m      3\u001b[0m     dp \u001b[38;5;241m=\u001b[39m {} \u001b[38;5;66;03m#this is the hashmap which will contain the value (i,total)\u001b[39;00m\n\u001b[1;32m      4\u001b[0m     \u001b[38;5;28;01mdef\u001b[39;00m \u001b[38;5;21mbacktrack\u001b[39m(i,total):\n",
      "\u001b[0;31mNameError\u001b[0m: name 'List' is not defined"
     ]
    }
   ],
   "source": [
    "#target sum\n",
    "def targetsum(self , nums : List[nums] , target :int) -> int:\n",
    "    dp = {} #this is the hashmap which will contain the value (i,total)\n",
    "    def backtrack(i,total):\n",
    "        if i == len(nums):#handle out of bound\n",
    "            return 1 if total == target else 0\n",
    "        if dp[(i,total)] in dp:#eleminating unwanted recurrsion\n",
    "            return dp[(i,total)]\n",
    "        dp[i,total] = (backtrack(i+1 , total + nums[i]) + backtrack(i+1 , total - nums[i]))\n",
    "        return dp[(i,total)]\n",
    "    return backtrack(0,0)    "
   ]
  },
  {
   "cell_type": "code",
   "execution_count": 5,
   "metadata": {},
   "outputs": [
    {
     "data": {
      "text/plain": [
       "<function __main__.<lambda>(x)>"
      ]
     },
     "execution_count": 5,
     "metadata": {},
     "output_type": "execute_result"
    }
   ],
   "source": [
    "lambda x : x+1"
   ]
  },
  {
   "cell_type": "code",
   "execution_count": 6,
   "metadata": {},
   "outputs": [
    {
     "data": {
      "text/plain": [
       "3"
      ]
     },
     "execution_count": 6,
     "metadata": {},
     "output_type": "execute_result"
    }
   ],
   "source": [
    "_(2)#underscore goes to the last evaluated expression\n"
   ]
  },
  {
   "cell_type": "code",
   "execution_count": 7,
   "metadata": {},
   "outputs": [
    {
     "data": {
      "text/plain": [
       "3"
      ]
     },
     "execution_count": 7,
     "metadata": {},
     "output_type": "execute_result"
    }
   ],
   "source": [
    "(lambda x : x+1)(2)"
   ]
  },
  {
   "cell_type": "markdown",
   "metadata": {},
   "source": []
  },
  {
   "cell_type": "code",
   "execution_count": 13,
   "metadata": {},
   "outputs": [
    {
     "name": "stdout",
     "output_type": "stream",
     "text": [
      "499500\n"
     ]
    }
   ],
   "source": [
    "#generators helps to save memory when computing big computation\n",
    "#generators are more effcient than list\n",
    "#lazy computations\n",
    "import sys\n",
    "gen = (i  for i in range(1000))\n",
    "print(sum(gen))"
   ]
  },
  {
   "cell_type": "code",
   "execution_count": 15,
   "metadata": {},
   "outputs": [
    {
     "name": "stdout",
     "output_type": "stream",
     "text": [
      "112\n"
     ]
    }
   ],
   "source": [
    "print(sys.getsizeof(gen))"
   ]
  },
  {
   "cell_type": "code",
   "execution_count": 16,
   "metadata": {},
   "outputs": [
    {
     "name": "stdout",
     "output_type": "stream",
     "text": [
      "499500\n",
      "9016\n"
     ]
    }
   ],
   "source": [
    "lists = [i for i in range(1000)]\n",
    "print(sum(lists))\n",
    "print(sys.getsizeof(lists))"
   ]
  },
  {
   "cell_type": "code",
   "execution_count": 17,
   "metadata": {},
   "outputs": [
    {
     "name": "stdout",
     "output_type": "stream",
     "text": [
      "Counter({5: 2, 1: 1, 2: 1, 4: 1})\n"
     ]
    }
   ],
   "source": [
    "from collections import Counter\n",
    "l = [1,2,4,5,5]\n",
    "print(Counter(l))"
   ]
  },
  {
   "cell_type": "code",
   "execution_count": 19,
   "metadata": {},
   "outputs": [
    {
     "name": "stdout",
     "output_type": "stream",
     "text": [
      "hello rohith\n"
     ]
    }
   ],
   "source": [
    "n = \"rohith\"\n",
    "print(f\"hello {n}\")"
   ]
  },
  {
   "cell_type": "code",
   "execution_count": null,
   "metadata": {},
   "outputs": [],
   "source": [
    "#0/1 knapsack\n",
    "def targetsum(self , nums :List[nums] , target : int) -> int:\n",
    "    dp = {} #chachig using hashmap\n",
    "    def backtrack(i,total):\n",
    "        #i is the index and total signifies the target at any point of time\n",
    "        if i == len(nums):\n",
    "            return 1 if total == target else 0 #teranary operator\n",
    "        if (i,total) in dp:\n",
    "            return dp[(i,total)]\n",
    "        dp[(i,total)] = (backtrack(i+1,total + nums[i]) + backtrack(i+1,total - nums[i]))\n",
    "        return dp[(i,total)]\n",
    "    return backtrack(0,0)\n",
    "\n",
    "    "
   ]
  },
  {
   "cell_type": "code",
   "execution_count": 2,
   "metadata": {},
   "outputs": [
    {
     "name": "stdout",
     "output_type": "stream",
     "text": [
      "(0, 1)\n"
     ]
    }
   ],
   "source": [
    "#bute force\n",
    "def brute_force(array,target):\n",
    "    for i in range(len(array)-1):\n",
    "        for j in range (i+1,len(array)):\n",
    "            if array[i] + array[j] == target:\n",
    "                return [i,j]\n",
    "    return \"not found\"\n",
    "print(brute_force([2,7,11,15],9))\n"
   ]
  },
  {
   "cell_type": "code",
   "execution_count": null,
   "metadata": {},
   "outputs": [],
   "source": []
  }
 ],
 "metadata": {
  "kernelspec": {
   "display_name": "Python 3",
   "language": "python",
   "name": "python3"
  },
  "language_info": {
   "codemirror_mode": {
    "name": "ipython",
    "version": 3
   },
   "file_extension": ".py",
   "mimetype": "text/x-python",
   "name": "python",
   "nbconvert_exporter": "python",
   "pygments_lexer": "ipython3",
   "version": "3.9.6"
  },
  "orig_nbformat": 4
 },
 "nbformat": 4,
 "nbformat_minor": 2
}
