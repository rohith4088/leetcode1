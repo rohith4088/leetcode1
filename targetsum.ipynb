{
 "cells": [
  {
   "cell_type": "code",
   "execution_count": null,
   "metadata": {},
   "outputs": [],
   "source": [
    "#zero/one knapsack\n",
    "def targetsum(self , nums : List[int] , target : int) -> int:\n",
    "    dp = {} #this is a hashmap storing values in the form of (i ,total)\n",
    "    def backtrack(i ,total):\n",
    "        if i == len(nums):\n",
    "            return 1 if total == target else 0\n",
    "        if dp[(i,total)] in dp :\n",
    "            return dp[(i,total)]\n",
    "        dp[(i,total)] = (backtrack(i+1, total + nums[i]) + backtrack(i + 1 , total - nums[i]))\n",
    "        return dp[(i,total)]\n",
    "    return backtrack(0,0)"
   ]
  },
  {
   "cell_type": "code",
   "execution_count": null,
   "metadata": {},
   "outputs": [],
   "source": [
    "#target sum\n",
    "def targetsum(self , nums : List[nums] , target :int) -> int:\n",
    "    dp = {} #this is the hashmap which will contain the value (i,total)\n",
    "    def backtrack(i,total):\n",
    "        if i == len(nums):#handle out of bound\n",
    "            return 1 if total == target else 0\n",
    "        if dp[(i,total)] in dp:#eleminating unwanted recurrsion\n",
    "            return dp[(i,total)]\n",
    "        dp[i,total] = (backtrack(i+1 , total + nums[i]) + backtrack(i+1 , total - nums[i]))\n",
    "        return dp[(i,total)]\n",
    "    return backtrack(0,0)    "
   ]
  },
  {
   "cell_type": "code",
   "execution_count": 5,
   "metadata": {},
   "outputs": [
    {
     "data": {
      "text/plain": [
       "<function __main__.<lambda>(x)>"
      ]
     },
     "execution_count": 5,
     "metadata": {},
     "output_type": "execute_result"
    }
   ],
   "source": [
    "lambda x : x+1"
   ]
  },
  {
   "cell_type": "code",
   "execution_count": 6,
   "metadata": {},
   "outputs": [
    {
     "data": {
      "text/plain": [
       "3"
      ]
     },
     "execution_count": 6,
     "metadata": {},
     "output_type": "execute_result"
    }
   ],
   "source": [
    "_(2)#underscore goes to the last evaluated expression\n"
   ]
  },
  {
   "cell_type": "code",
   "execution_count": 7,
   "metadata": {},
   "outputs": [
    {
     "data": {
      "text/plain": [
       "3"
      ]
     },
     "execution_count": 7,
     "metadata": {},
     "output_type": "execute_result"
    }
   ],
   "source": [
    "(lambda x : x+1)(2)"
   ]
  },
  {
   "cell_type": "markdown",
   "metadata": {},
   "source": []
  },
  {
   "cell_type": "code",
   "execution_count": 13,
   "metadata": {},
   "outputs": [
    {
     "name": "stdout",
     "output_type": "stream",
     "text": [
      "499500\n"
     ]
    }
   ],
   "source": [
    "#generators helps to save memory when computing big computation\n",
    "#generators are more effcient than list\n",
    "#lazy computations\n",
    "import sys\n",
    "gen = (i  for i in range(1000))\n",
    "print(sum(gen))"
   ]
  },
  {
   "cell_type": "code",
   "execution_count": 15,
   "metadata": {},
   "outputs": [
    {
     "name": "stdout",
     "output_type": "stream",
     "text": [
      "112\n"
     ]
    }
   ],
   "source": [
    "print(sys.getsizeof(gen))"
   ]
  },
  {
   "cell_type": "code",
   "execution_count": 16,
   "metadata": {},
   "outputs": [
    {
     "name": "stdout",
     "output_type": "stream",
     "text": [
      "499500\n",
      "9016\n"
     ]
    }
   ],
   "source": [
    "lists = [i for i in range(1000)]\n",
    "print(sum(lists))\n",
    "print(sys.getsizeof(lists))"
   ]
  },
  {
   "cell_type": "code",
   "execution_count": 17,
   "metadata": {},
   "outputs": [
    {
     "name": "stdout",
     "output_type": "stream",
     "text": [
      "Counter({5: 2, 1: 1, 2: 1, 4: 1})\n"
     ]
    }
   ],
   "source": [
    "from collections import Counter\n",
    "l = [1,2,4,5,5]\n",
    "print(Counter(l))"
   ]
  },
  {
   "cell_type": "code",
   "execution_count": 19,
   "metadata": {},
   "outputs": [
    {
     "name": "stdout",
     "output_type": "stream",
     "text": [
      "hello rohith\n"
     ]
    }
   ],
   "source": [
    "n = \"rohith\"\n",
    "print(f\"hello {n}\")"
   ]
  },
  {
   "cell_type": "code",
   "execution_count": null,
   "metadata": {},
   "outputs": [],
   "source": [
    "#0/1 knapsack\n",
    "def targetsum(self , nums :List[nums] , target : int) -> int:\n",
    "    dp = {} #chachig using hashmap\n",
    "    def backtrack(i,total):\n",
    "        #i is the index and total signifies the target at any point of time\n",
    "        if i == len(nums):\n",
    "            return 1 if total == target else 0 #teranary operator\n",
    "        if (i,total) in dp:\n",
    "            return dp[(i,total)]\n",
    "        dp[(i,total)] = (backtrack(i+1,total + nums[i]) + backtrack(i+1,total - nums[i]))\n",
    "        return dp[(i,total)]\n",
    "    return backtrack(0,0)\n",
    "\n",
    "    "
   ]
  }
 ],
 "metadata": {
  "kernelspec": {
   "display_name": "Python 3",
   "language": "python",
   "name": "python3"
  },
  "language_info": {
   "codemirror_mode": {
    "name": "ipython",
    "version": 3
   },
   "file_extension": ".py",
   "mimetype": "text/x-python",
   "name": "python",
   "nbconvert_exporter": "python",
   "pygments_lexer": "ipython3",
   "version": "3.8.17"
  },
  "orig_nbformat": 4
 },
 "nbformat": 4,
 "nbformat_minor": 2
}
