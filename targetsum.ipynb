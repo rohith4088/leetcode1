{
 "cells": [
  {
   "cell_type": "code",
   "execution_count": null,
   "metadata": {},
   "outputs": [],
   "source": [
    "def targetsum(self , nums : List[int] , target : int) -> int:\n",
    "    dp = {} #this is a hashmap storing values in the form of (i ,total)\n",
    "    def backtrack(i ,total):\n",
    "        if i == len(nums):\n",
    "            return 1 if total == target else 0\n",
    "        if dp[(i,total)] in dp :\n",
    "            return dp[(i,total)]\n",
    "        dp[(i,total)] = (backtrack(i+1, total + nums[i]) + backtrack(i + 1 , total - nums[i]))\n",
    "        return dp[(i,total)]\n",
    "    return backtrack(0,0)"
   ]
  }
 ],
 "metadata": {
  "language_info": {
   "name": "python"
  },
  "orig_nbformat": 4
 },
 "nbformat": 4,
 "nbformat_minor": 2
}
