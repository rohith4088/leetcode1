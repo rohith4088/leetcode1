{
 "cells": [
  {
   "cell_type": "code",
   "execution_count": 50,
   "metadata": {},
   "outputs": [],
   "source": [
    "### HASHTABLES\n",
    "##Hash Tables are data structures which generally provide very fast(O(1)) lookups, insertions and deletions\n",
    "#In Python, dictionaries are implemented as hash tables.\n",
    "#The way hashing works is that there is a bucket containing slots to fill with elements.\n",
    "#Like in arrays, elements are referenced by their integer indexes, in dictionaries, or hash tables,\n",
    "#values are referenced by their keys, which can be of any data type.\n",
    "#Now there are different kinds of hash functions (eg: MD5, SHA1, SHA256) which are used to convert the keys into hashes, which are unique for each key\n",
    "#And the hashes are then mapped to some slot in the bucket. And the key and value pair get stored in the slot,\n",
    "#or in some accompanying data structure within the slot (like, linked lists)\n",
    "\n",
    "#In general, the lookup, insert and delete operations all are very fast, in the order of O(1)\n",
    "#But in some cases, more than one keys can map to the same slot and that increases the time complexity by some margin,\n",
    "#although not by a lot in most cases. This is known as a collision.\n",
    "#Now, like for almost all problem there is some sort of a solution in the computer science world,\n",
    "#collisions can also be resolved by numerous collision resolution techniques like open addressing and closed addressing\n",
    "\n",
    "#Enough details, let's look at how hash tables are implemented in Python using dictionaries.\n",
    "#Data ais stored in an associative manner \n",
    "#applications\n",
    "# to prevent sensitive data, such as web analytics, passwords, and payment details.\n",
    "# To encrypt information exchange between browsers and web servers, and create session IDs for data caching and internet applications.\n",
    "# To find identical data through lookup functions.\n",
    "# Adding a digital signature to an email."
   ]
  },
  {
   "cell_type": "code",
   "execution_count": 51,
   "metadata": {},
   "outputs": [
    {
     "name": "stdout",
     "output_type": "stream",
     "text": [
      "[['march', '9,320,march']]\n"
     ]
    }
   ],
   "source": [
    "#what is the need\n",
    "#using list\n",
    "stock_prices = []\n",
    "f = open(\"stock_prices.csv\",'w+')\n",
    "f.write(\"march 9,320,march 10, 340,march 11 , 350,march 31,450\")\n",
    "f.close()\n",
    "stock_prices = []\n",
    "with open(\"stock_prices.csv\",'r') as f:\n",
    "    for line in f:\n",
    "        tokens = line.split()\n",
    "        day = tokens[0]\n",
    "        prices = tokens[1]\n",
    "        stock_prices.append([day,prices])\n",
    "print(stock_prices)"
   ]
  },
  {
   "cell_type": "code",
   "execution_count": 52,
   "metadata": {},
   "outputs": [],
   "source": [
    "#retrieval can prove inefficent for largeer datasets\n",
    "for element in stock_prices:\n",
    "    if element[0] == \"march 31\":\n",
    "        print(element[1])"
   ]
  },
  {
   "cell_type": "code",
   "execution_count": 53,
   "metadata": {},
   "outputs": [
    {
     "name": "stdout",
     "output_type": "stream",
     "text": [
      "{'march': '9,320,march'}\n"
     ]
    },
    {
     "data": {
      "text/plain": [
       "9"
      ]
     },
     "execution_count": 53,
     "metadata": {},
     "output_type": "execute_result"
    }
   ],
   "source": [
    "#using dictionary\n",
    "stock_prices = {}\n",
    "with open(\"stock_prices.csv\",'r') as f:\n",
    "    for line in f:\n",
    "        tokens = line.split()\n",
    "        day = tokens[0]\n",
    "        prices = tokens[1]\n",
    "        stock_prices[day] = prices #key:value\n",
    "print(stock_prices)\n",
    "\n",
    "for element in stock_prices:\n",
    "    if element[0] == \"march 31\":\n",
    "        print(element[1])\n",
    "# the retreival becomes very fast O(1)\n",
    "#first step in creating a hasmap is defining a hash function\n",
    "#hash function is a function that takes a string and returns a number\n",
    "#this can be achieved by many methods one of whihc is using ascii\n",
    "def get_hash(key):\n",
    "    h = 0\n",
    "    for char in key:\n",
    "        h += ord(char)\n",
    "    return h % 100\n",
    "get_hash(\"march 6\") "
   ]
  },
  {
   "cell_type": "code",
   "execution_count": 54,
   "metadata": {},
   "outputs": [],
   "source": [
    "class HashTables:\n",
    "    def __init__(self):\n",
    "        self.MAX = 100\n",
    "        self.arr = [None for i in range(self.MAX)]\n",
    "        \n",
    "    def get_hash(self,key):\n",
    "        h = 0\n",
    "        for char in key:\n",
    "            h += ord(char)\n",
    "        return h % self.MAX\n",
    "    def __setitem__(self,key,val):\n",
    "        h = self.get_hash(key)\n",
    "        self.arr[h] = val\n",
    "    def __getitem__(self,key):\n",
    "        h = self.get_hash(key)\n",
    "        return self.arr[h]\n",
    "    def __deleteitem__(self,key):\n",
    "        h = get_hash(key)\n",
    "        self.arr[h] = None\n",
    "t = HashTables()\n",
    "t.__setitem__(\"march 6\",140)\n",
    "t.__getitem__('march 6')\n",
    "#del t['march 6']\n",
    "#this does not handel collsion\n",
    "#t['march 6'] = 130 is more convineient to write than to call get add function\n",
    "# to override this python provides __setitem__() and __getitem__() whihch overrides this sytnax\n",
    "\n",
    "t['march 7'] = 340\n",
    "t['march 7']\n",
    "\n",
    "t['march 17'] = 459\n",
    "\n",
    "\n",
    "#handling collsions using seperate chaining method or linear probing\n",
    " \n",
    "\n"
   ]
  },
  {
   "cell_type": "code",
   "execution_count": 55,
   "metadata": {},
   "outputs": [],
   "source": [
    "#handling collisions\n",
    "#using seperate chaining method\n",
    "class HashTables:\n",
    "    def __init__(self):\n",
    "        self.MAX = 10\n",
    "        self.arr = [[] for i in range(self.MAX)]\n",
    "        \n",
    "    def get_hash(self,key):\n",
    "        h = 0\n",
    "        for char in key:\n",
    "            h += ord(char)\n",
    "        return h % self.MAX\n",
    "    def __setitem__(self,key,val):\n",
    "        h = self.get_hash(key)\n",
    "        #hanlding collision\n",
    "        found = False\n",
    "        for idx,element in enumerate(self.arr[h]):\n",
    "            if len(element) == 2 and element[0] == key:\n",
    "                self.arr[h][idx] = (key,val)\n",
    "                found  = True\n",
    "                break\n",
    "        if not found:       \n",
    "            self.arr[h].append((key,val))\n",
    "    def __getitem__(self,key):\n",
    "        h = self.get_hash(key)\n",
    "        for element in self.arr[h]:\n",
    "            if element[0] == key:\n",
    "                return element[1]\n",
    "    def __delitem__(self,key):\n",
    "        h = self.get_hash(key)\n",
    "        for index,element in enumerate(self.arr[h]):\n",
    "            if element[0] == key:\n",
    "                del self.arr[h][index]\n",
    "                \n",
    "t = HashTables()"
   ]
  },
  {
   "cell_type": "code",
   "execution_count": 56,
   "metadata": {},
   "outputs": [],
   "source": [
    "t[\"march 6\"] = 128\n",
    "t['march 6'] = 78\n",
    "t['march 9'] = 4\n",
    "t['march 17'] = 459\n"
   ]
  },
  {
   "cell_type": "code",
   "execution_count": 57,
   "metadata": {},
   "outputs": [
    {
     "data": {
      "text/plain": [
       "459"
      ]
     },
     "execution_count": 57,
     "metadata": {},
     "output_type": "execute_result"
    }
   ],
   "source": [
    "t.__getitem__(\"march 17\")"
   ]
  },
  {
   "cell_type": "code",
   "execution_count": 59,
   "metadata": {},
   "outputs": [
    {
     "name": "stdout",
     "output_type": "stream",
     "text": [
      "[[],\n",
      " [],\n",
      " [('march 9', 4)],\n",
      " [],\n",
      " [],\n",
      " [],\n",
      " [],\n",
      " [],\n",
      " [],\n",
      " [('march 6', 78), ('march 17', 459)]]\n"
     ]
    }
   ],
   "source": [
    "from pprint import pprint\n",
    "pprint(t.arr)"
   ]
  },
  {
   "cell_type": "code",
   "execution_count": 60,
   "metadata": {},
   "outputs": [],
   "source": [
    "del t['march 6']"
   ]
  },
  {
   "cell_type": "code",
   "execution_count": 61,
   "metadata": {},
   "outputs": [
    {
     "data": {
      "text/plain": [
       "[[], [], [('march 9', 4)], [], [], [], [], [], [], [('march 17', 459)]]"
      ]
     },
     "execution_count": 61,
     "metadata": {},
     "output_type": "execute_result"
    }
   ],
   "source": [
    "t.arr"
   ]
  },
  {
   "cell_type": "code",
   "execution_count": 77,
   "metadata": {},
   "outputs": [
    {
     "name": "stdout",
     "output_type": "stream",
     "text": [
      "['h', 'h', 'i', 'o', 'r', 't'],['e', 'h', 'l', 'l', 'o']\n"
     ]
    }
   ],
   "source": [
    "s = list(\"rohith\")\n",
    "t = list(\"hello\")\n",
    "s.sort(),t.sort()\n",
    "print(f'{s},{t}')\n"
   ]
  },
  {
   "cell_type": "code",
   "execution_count": null,
   "metadata": {},
   "outputs": [],
   "source": []
  },
  {
   "cell_type": "code",
   "execution_count": null,
   "metadata": {},
   "outputs": [],
   "source": []
  }
 ],
 "metadata": {
  "kernelspec": {
   "display_name": "Python 3",
   "language": "python",
   "name": "python3"
  },
  "language_info": {
   "codemirror_mode": {
    "name": "ipython",
    "version": 3
   },
   "file_extension": ".py",
   "mimetype": "text/x-python",
   "name": "python",
   "nbconvert_exporter": "python",
   "pygments_lexer": "ipython3",
   "version": "3.8.18"
  }
 },
 "nbformat": 4,
 "nbformat_minor": 2
}
